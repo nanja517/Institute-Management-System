{
 "cells": [
  {
   "cell_type": "markdown",
   "id": "49067e5b",
   "metadata": {},
   "source": [
    "# Institute Management System\n",
    "1. **Student Management:**\n",
    "   - Student registration and admission process.\n",
    "   - Profile management for each student.\n",
    "   - Class allocation and course registration.\n",
    "   - Late fee management.\n",
    "\n",
    "2. **Staff Management:**\n",
    "   - Faculty and staff registration.\n",
    "   - Role-based access control.\n",
    "   - Attendance tracking for staff.\n",
    "\n",
    "3. **Academic Management:**\n",
    "   - Course and curriculum management.\n",
    "   - Class scheduling and timetable creation.\n",
    "   - Grading and examination management.\n",
    "   - Results and report card generation.\n",
    "\n",
    "4. **Financial Management:**\n",
    "   - Fee management (collection, tracking, and reminders).\n",
    "   - Budgeting and financial reporting.\n",
    "   - Payroll management for staff.\n",
    "\n",
    "5. **Library Management:**\n",
    "   - Book cataloging and inventory.\n",
    "   - Borrowing and return tracking.\n",
    "\n",
    "6. **Attendance Tracking:**\n",
    "   - Student attendance tracking.\n",
    "   - Staff attendance tracking.\n",
    "\n",
    "7. **Communication System:**\n",
    "   - Internal messaging system.\n",
    "   - Announcements and notifications.\n",
    "\n",
    "8. **Extracurricular Activities:**\n",
    "   - Event and activity management.\n",
    "   - Clubs and societies registration.\n",
    "\n",
    "9. **Reporting and Analytics:**\n",
    "   - Generate various reports (academic, financial, attendance).\n",
    "   - Data analytics for decision-making.\n",
    "\n",
    "10. **Document Management:**\n",
    "    - Secure storage and retrieval of important documents.\n",
    "\n",
    "11. **User Authentication and Security:**\n",
    "    - Secure login and authentication.\n",
    "    - Role-based access control to protect sensitive information.\n",
    "\n",
    "12. **Support and Maintenance:**\n",
    "    - Helpdesk or support system for issue resolution.\n",
    "    - Regular maintenance and updates."
   ]
  },
  {
   "cell_type": "code",
   "execution_count": null,
   "id": "de6a29a7",
   "metadata": {},
   "outputs": [],
   "source": [
    "log = {\"username\":\"kingKong\", \"password\":\"King#123\"}\n",
    "with open(\"login_details.txt\", \"w\") as login:\n",
    "    for i, e in log.items():\n",
    "        login_details.write(f\"{i}:{e}\")\n",
    "    login_details.close()"
   ]
  },
  {
   "cell_type": "code",
   "execution_count": null,
   "id": "1ed1e6e0",
   "metadata": {},
   "outputs": [],
   "source": [
    "import random\n",
    "import sys\n",
    "import time\n",
    "from colorama import *\n",
    "\n",
    "def main():\n",
    "    welcome_msg()\n",
    "    while True:\n",
    "        print(\"1. SingUp\")\n",
    "        print(\"2. LogIn\")\n",
    "        print(\"3. Exit>\")\n",
    "        old_new = input()\n",
    "\n",
    "        if old_new == \"1\":\n",
    "            singup()\n",
    "        elif old_new == \"2\":\n",
    "            print(\"Login\")\n",
    "        elif old_new == \"3\":\n",
    "            print(\"You're Welcome\")\n",
    "            break\n",
    "        else:\n",
    "            print(\"Choose the right option and Try again>>\")\n",
    "    \n",
    "def singup():\n",
    "    start = \"Let's start with some details>>>\"\n",
    "    delay=0.05\n",
    "    for char in start:\n",
    "        sys.stdout.write(f\"{Fore.CYAN}{char}{Style.RESET_ALL}\")\n",
    "        sys.stdout.flush()\n",
    "        time.sleep(delay)\n",
    "    print()\n",
    "    \n",
    "    with open(\"user_details.txt\", \"w\") as login:\n",
    "        for i, e in log.items():\n",
    "            login_details.write(f\"{i}:{e}\")\n",
    "        login_details.close()\n",
    "    \n",
    "    \n",
    "        \n",
    "def welcome_msg():\n",
    "    welcome = \"Welcome to Institute Management System>\"\n",
    "    delay=0.05\n",
    "    for char in welcome:\n",
    "        sys.stdout.write(f\"{Fore.CYAN}{char}{Style.RESET_ALL}\")\n",
    "        sys.stdout.flush()\n",
    "        time.sleep(delay)\n",
    "    print()"
   ]
  },
  {
   "cell_type": "code",
   "execution_count": 42,
   "id": "3fd7db28",
   "metadata": {},
   "outputs": [
    {
     "name": "stdout",
     "output_type": "stream",
     "text": [
      "\u001b[36mW\u001b[0m\u001b[36me\u001b[0m\u001b[36ml\u001b[0m\u001b[36mc\u001b[0m\u001b[36mo\u001b[0m\u001b[36mm\u001b[0m\u001b[36me\u001b[0m\u001b[36m \u001b[0m\u001b[36mt\u001b[0m\u001b[36mo\u001b[0m\u001b[36m \u001b[0m\u001b[36mI\u001b[0m\u001b[36mn\u001b[0m\u001b[36ms\u001b[0m\u001b[36mt\u001b[0m\u001b[36mi\u001b[0m\u001b[36mt\u001b[0m\u001b[36mu\u001b[0m\u001b[36mt\u001b[0m\u001b[36me\u001b[0m\u001b[36m \u001b[0m\u001b[36mM\u001b[0m\u001b[36ma\u001b[0m\u001b[36mn\u001b[0m\u001b[36ma\u001b[0m\u001b[36mg\u001b[0m\u001b[36me\u001b[0m\u001b[36mm\u001b[0m\u001b[36me\u001b[0m\u001b[36mn\u001b[0m\u001b[36mt\u001b[0m\u001b[36m \u001b[0m\u001b[36mS\u001b[0m\u001b[36my\u001b[0m\u001b[36ms\u001b[0m\u001b[36mt\u001b[0m\u001b[36me\u001b[0m\u001b[36mm\u001b[0m\u001b[36m>\u001b[0m\n",
      "1. New User\n",
      "2. Old User\n",
      "3. Exit>\n",
      "1\n",
      "\u001b[36mL\u001b[0m\u001b[36me\u001b[0m\u001b[36mt\u001b[0m\u001b[36m'\u001b[0m\u001b[36ms\u001b[0m\u001b[36m \u001b[0m\u001b[36ms\u001b[0m\u001b[36mt\u001b[0m\u001b[36ma\u001b[0m\u001b[36mr\u001b[0m\u001b[36mt\u001b[0m\u001b[36m \u001b[0m\u001b[36mw\u001b[0m\u001b[36mi\u001b[0m\u001b[36mt\u001b[0m\u001b[36mh\u001b[0m\u001b[36m \u001b[0m\u001b[36ms\u001b[0m\u001b[36mo\u001b[0m\u001b[36mm\u001b[0m\u001b[36me\u001b[0m\u001b[36m \u001b[0m\u001b[36md\u001b[0m\u001b[36me\u001b[0m\u001b[36mt\u001b[0m\u001b[36ma\u001b[0m\u001b[36mi\u001b[0m\u001b[36ml\u001b[0m\u001b[36ms\u001b[0m\u001b[36m>\u001b[0m\u001b[36m>\u001b[0m\u001b[36m>\u001b[0m1. New User\n",
      "2. Old User\n",
      "3. Exit>\n",
      "3\n",
      "You're Welcome\n"
     ]
    }
   ],
   "source": [
    "main()"
   ]
  },
  {
   "cell_type": "code",
   "execution_count": 42,
   "id": "68ae4be0",
   "metadata": {},
   "outputs": [
    {
     "name": "stdout",
     "output_type": "stream",
     "text": [
      "Akash @124\n",
      "Very Strong Password\n",
      "Good to go\n"
     ]
    }
   ],
   "source": [
    "def Login_check():\n",
    "    while True:\n",
    "        login_key = input()\n",
    "        A_Z = [i for i in range(65,91)]\n",
    "        a_z = [i for i in range(97,123)]\n",
    "        numbers = [i for i in range(48,58)]\n",
    "        sym1 = [i for i in range(32,48)]\n",
    "        sym2 = [i for i in range(58,65)]\n",
    "        sym3 = [i for i in range(91,97)]\n",
    "        sym4 = [i for i in range(123,127)]\n",
    "        sym_all = sym1+sym2+sym3+sym4\n",
    "        pas_count = 0\n",
    "        if len(login_key) >= 8:\n",
    "            if ord(login_key[0]) in A_Z:\n",
    "                for i in range(1,len(login_key)):\n",
    "                    if ord(login_key[i]) in a_z or ord(login_key[i]) in numbers or ord(login_key[i]) in sym_all or ord(login_key[i]) in A_Z:\n",
    "                        pas_count += 1\n",
    "            else:\n",
    "                print(\"Your Fisrt letter must be Capital\")\n",
    "        if pas_count >= 7:\n",
    "            print(\"Very Strong Password\")\n",
    "            break\n",
    "\n",
    "    \n",
    "Login_check()\n",
    "print(\"Good to go\")"
   ]
  },
  {
   "cell_type": "code",
   "execution_count": 45,
   "id": "d2f55a7a",
   "metadata": {},
   "outputs": [
    {
     "name": "stdout",
     "output_type": "stream",
     "text": [
      "97\n",
      "a\n"
     ]
    }
   ],
   "source": [
    "print(ord('a'))\n",
    "print(chr(97))"
   ]
  },
  {
   "cell_type": "code",
   "execution_count": null,
   "id": "de762fc6",
   "metadata": {},
   "outputs": [],
   "source": []
  }
 ],
 "metadata": {
  "kernelspec": {
   "display_name": "Python 3 (ipykernel)",
   "language": "python",
   "name": "python3"
  },
  "language_info": {
   "codemirror_mode": {
    "name": "ipython",
    "version": 3
   },
   "file_extension": ".py",
   "mimetype": "text/x-python",
   "name": "python",
   "nbconvert_exporter": "python",
   "pygments_lexer": "ipython3",
   "version": "3.11.4"
  }
 },
 "nbformat": 4,
 "nbformat_minor": 5
}
